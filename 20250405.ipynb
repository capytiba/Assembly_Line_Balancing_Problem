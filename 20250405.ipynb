{
  "nbformat": 4,
  "nbformat_minor": 0,
  "metadata": {
    "colab": {
      "provenance": [],
      "authorship_tag": "ABX9TyPgbCCSeIbynTinUKQGWHTS",
      "include_colab_link": true
    },
    "kernelspec": {
      "name": "python3",
      "display_name": "Python 3"
    },
    "language_info": {
      "name": "python"
    }
  },
  "cells": [
    {
      "cell_type": "markdown",
      "metadata": {
        "id": "view-in-github",
        "colab_type": "text"
      },
      "source": [
        "<a href=\"https://colab.research.google.com/github/capytiba/Assembly_Line_Balancing_Problem/blob/master/20250405.ipynb\" target=\"_parent\"><img src=\"https://colab.research.google.com/assets/colab-badge.svg\" alt=\"Open In Colab\"/></a>"
      ]
    },
    {
      "cell_type": "code",
      "execution_count": 1,
      "metadata": {
        "colab": {
          "base_uri": "https://localhost:8080/"
        },
        "id": "euVo3KDRuSV6",
        "outputId": "0d5ef213-54ea-4f99-e5aa-10ebcc4e948f"
      },
      "outputs": [
        {
          "output_type": "stream",
          "name": "stderr",
          "text": [
            "/content/algorithm.py:50: SyntaxWarning: \"is\" with a literal. Did you mean \"==\"?\n",
            "  return sorted(pop, key=lambda x:x.calc_fitness(gen, graph, times, k=k*10, scalling_factor=0) if x.fitness is 0 else x.fitness, reverse=False)\n"
          ]
        },
        {
          "output_type": "stream",
          "name": "stdout",
          "text": [
            "Parameters of the best solution : [1, 1, 4, 2, 1, 1, 8, 2, 1, 2, 6, 3, 5, 3, 1, 2, 3, 2, 7, 1, 5, 9, 5, 4, 5, 2, 1, 9, 4, 5, 2, 4, 5, 6, 1, 2, 5, 9, 7, 4, 7, 1, 5, 6, 9, 4, 1, 5, 2, 5, 7, 2, 1, 10, 8, 9, 2, 2, 3, 10, 6, 6, 9, 9, 9, 3, 7, 4, 7, 5, 9, 10, 5, 10, 7]\n",
            "Best solution reached after 53 generations.\n",
            "Fitness of the best solution : 254\n"
          ]
        }
      ],
      "source": [
        "from algorithm import engine, read_file\n",
        "\n",
        "if __name__ == '__main__':\n",
        "    k, num_op, graph, times = read_file('data75.txt')\n",
        "    num_stations = 10\n",
        "\n",
        "    engine(k, num_op, graph, times, num_stations=num_stations,\n",
        "           pop_size=200, iterations=200,\n",
        "           perc_elitism=10 / 200, perc_mat=0.5, sel_type='roulette', cross_type='SP',\n",
        "           mutation_rate=0.20, mut_type='heur')"
      ]
    }
  ]
}